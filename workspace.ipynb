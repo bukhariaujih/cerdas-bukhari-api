{
 "cells": [
  {
   "cell_type": "code",
   "execution_count": null,
   "id": "d093068c-4ccd-4a70-a058-680f9c013079",
   "metadata": {},
   "outputs": [],
   "source": [
    "from io import BytesIO\n",
    "from deepface import DeepFace\n",
    "import numpy as np\n",
    "from PIL import Image\n",
    "\n",
    "model = None\n",
    "\n",
    "\n",
    "# def load_model():\n",
    "#     model = tf.keras.applications.MobileNetV2(weights=\"imagenet\")\n",
    "#     print(\"Model loaded\")\n",
    "#     return model\n",
    "\n",
    "def analyze(img_path, actions, detector_backend, enforce_detection, align):\n",
    "    result = {}\n",
    "    demographies = DeepFace.analyze(\n",
    "        img_path=img_path,\n",
    "        actions=actions,\n",
    "        detector_backend=detector_backend,\n",
    "        enforce_detection=enforce_detection,\n",
    "        align=align,\n",
    "    )\n",
    "    result[\"results\"] = demographies\n",
    "    return result\n",
    "\n",
    "def predict(image: Image.Image):\n",
    "    # global model\n",
    "    # if model is None:\n",
    "    #     model = load_model()\n",
    "\n",
    "    image = np.asarray(image.resize((224, 224)))[..., :3]\n",
    "    image = np.expand_dims(image, 0)\n",
    "    image = image / 127.5 - 1.0\n",
    "\n",
    "    demographies = analyze(\n",
    "        img_path= image,\n",
    "        actions= [\"age\", \"gender\", \"emotion\", \"race\"],\n",
    "        detector_backend=\"opencv\",\n",
    "        enforce_detection=True,\n",
    "        align=True,\n",
    "    )\n",
    "   \n",
    "    return demographies\n",
    "\n",
    "\n",
    "def read_imagefile(file) -> Image.Image:\n",
    "    image = Image.open(BytesIO(file))\n",
    "    return image\n"
   ]
  },
  {
   "cell_type": "code",
   "execution_count": null,
   "id": "065e651f-c490-4620-b255-21c8433bf6e1",
   "metadata": {},
   "outputs": [],
   "source": [
    "import uvicorn\n",
    "from fastapi import FastAPI, File, UploadFile\n",
    "from starlette.responses import RedirectResponse\n",
    "\n",
    "from application.components import predict, read_imagefile\n",
    "\n",
    "app_desc = \"\"\"by A. Bukhari\"\"\"\n",
    "\n",
    "app = FastAPI(title='Cerdas face analyzer', description=app_desc)\n",
    "\n",
    "\n",
    "@app.get(\"/\", include_in_schema=False)\n",
    "async def index():\n",
    "    return RedirectResponse(url=\"/docs\")\n",
    "\n",
    "\n",
    "@app.post(\"/predict/image\")\n",
    "async def predict_api(file: UploadFile = File(...)):\n",
    "    extension = file.filename.split(\".\")[-1] in (\"jpg\", \"jpeg\", \"png\")\n",
    "    if not extension:\n",
    "        return \"Image must be jpg or png format!\"\n",
    "    image = read_imagefile(await file.read())\n",
    "    \n",
    "    demographies = predict(image)\n",
    "\n",
    "    return demographies\n",
    "\n",
    "\n",
    "# if __name__ == \"__main__\":\n",
    "#     uvicorn.run(app, debug=True)\n"
   ]
  },
  {
   "cell_type": "code",
   "execution_count": 1,
   "id": "700a03c5-3d0b-4f75-ba1d-dac9bdfb2858",
   "metadata": {
    "scrolled": true
   },
   "outputs": [
    {
     "name": "stderr",
     "output_type": "stream",
     "text": [
      "2024-01-24 14:09:31.526117: I external/local_tsl/tsl/cuda/cudart_stub.cc:31] Could not find cuda drivers on your machine, GPU will not be used.\n",
      "2024-01-24 14:09:31.556215: E external/local_xla/xla/stream_executor/cuda/cuda_dnn.cc:9261] Unable to register cuDNN factory: Attempting to register factory for plugin cuDNN when one has already been registered\n",
      "2024-01-24 14:09:31.556238: E external/local_xla/xla/stream_executor/cuda/cuda_fft.cc:607] Unable to register cuFFT factory: Attempting to register factory for plugin cuFFT when one has already been registered\n",
      "2024-01-24 14:09:31.557129: E external/local_xla/xla/stream_executor/cuda/cuda_blas.cc:1515] Unable to register cuBLAS factory: Attempting to register factory for plugin cuBLAS when one has already been registered\n",
      "2024-01-24 14:09:31.561889: I external/local_tsl/tsl/cuda/cudart_stub.cc:31] Could not find cuda drivers on your machine, GPU will not be used.\n",
      "2024-01-24 14:09:31.562534: I tensorflow/core/platform/cpu_feature_guard.cc:182] This TensorFlow binary is optimized to use available CPU instructions in performance-critical operations.\n",
      "To enable the following instructions: AVX2 FMA, in other operations, rebuild TensorFlow with the appropriate compiler flags.\n",
      "2024-01-24 14:09:32.189652: W tensorflow/compiler/tf2tensorrt/utils/py_utils.cc:38] TF-TRT Warning: Could not find TensorRT\n"
     ]
    },
    {
     "ename": "AttributeError",
     "evalue": "'str' object has no attribute 'resize'",
     "output_type": "error",
     "traceback": [
      "\u001b[0;31m---------------------------------------------------------------------------\u001b[0m",
      "\u001b[0;31mAttributeError\u001b[0m                            Traceback (most recent call last)",
      "Cell \u001b[0;32mIn[1], line 4\u001b[0m\n\u001b[1;32m      1\u001b[0m \u001b[38;5;28;01mfrom\u001b[39;00m \u001b[38;5;21;01mapplication\u001b[39;00m\u001b[38;5;21;01m.\u001b[39;00m\u001b[38;5;21;01mcomponents\u001b[39;00m \u001b[38;5;28;01mimport\u001b[39;00m predict, read_imagefile\n\u001b[1;32m      3\u001b[0m path \u001b[38;5;241m=\u001b[39m \u001b[38;5;124m\"\u001b[39m\u001b[38;5;124m/home/cisir2/Desktop/bukhari/cerdas_faceanalyzer_api/img2.jpg\u001b[39m\u001b[38;5;124m\"\u001b[39m\n\u001b[0;32m----> 4\u001b[0m \u001b[43mpredict\u001b[49m\u001b[43m(\u001b[49m\u001b[43mpath\u001b[49m\u001b[43m)\u001b[49m\n",
      "File \u001b[0;32m~/Desktop/bukhari/tensorflow-fastapi-starter-pack/application/components/prediction/serve_model.py:31\u001b[0m, in \u001b[0;36mpredict\u001b[0;34m(image)\u001b[0m\n\u001b[1;32m     26\u001b[0m \u001b[38;5;28;01mdef\u001b[39;00m \u001b[38;5;21mpredict\u001b[39m(image: Image\u001b[38;5;241m.\u001b[39mImage):\n\u001b[1;32m     27\u001b[0m     \u001b[38;5;66;03m# global model\u001b[39;00m\n\u001b[1;32m     28\u001b[0m     \u001b[38;5;66;03m# if model is None:\u001b[39;00m\n\u001b[1;32m     29\u001b[0m     \u001b[38;5;66;03m#     model = load_model()\u001b[39;00m\n\u001b[0;32m---> 31\u001b[0m     image \u001b[38;5;241m=\u001b[39m np\u001b[38;5;241m.\u001b[39masarray(\u001b[43mimage\u001b[49m\u001b[38;5;241;43m.\u001b[39;49m\u001b[43mresize\u001b[49m((\u001b[38;5;241m224\u001b[39m, \u001b[38;5;241m224\u001b[39m)))[\u001b[38;5;241m.\u001b[39m\u001b[38;5;241m.\u001b[39m\u001b[38;5;241m.\u001b[39m, :\u001b[38;5;241m3\u001b[39m]\n\u001b[1;32m     32\u001b[0m     image \u001b[38;5;241m=\u001b[39m np\u001b[38;5;241m.\u001b[39mexpand_dims(image, \u001b[38;5;241m0\u001b[39m)\n\u001b[1;32m     33\u001b[0m     image \u001b[38;5;241m=\u001b[39m image \u001b[38;5;241m/\u001b[39m \u001b[38;5;241m127.5\u001b[39m \u001b[38;5;241m-\u001b[39m \u001b[38;5;241m1.0\u001b[39m\n",
      "\u001b[0;31mAttributeError\u001b[0m: 'str' object has no attribute 'resize'"
     ]
    }
   ],
   "source": [
    "from application.components import predict, read_imagefile\n",
    "\n",
    "path = \"/home/cisir2/Desktop/bukhari/cerdas_faceanalyzer_api/img2.jpg\"\n",
    "predict(path)"
   ]
  },
  {
   "cell_type": "code",
   "execution_count": 2,
   "id": "a945ae61-46fe-4174-aa2f-47305f553ec9",
   "metadata": {},
   "outputs": [],
   "source": [
    "from application.components import predict, read_imagefile"
   ]
  },
  {
   "cell_type": "code",
   "execution_count": 5,
   "id": "3c529315-49cd-4acf-bda2-fa7e421e4f9f",
   "metadata": {},
   "outputs": [
    {
     "ename": "AttributeError",
     "evalue": "'str' object has no attribute 'read'",
     "output_type": "error",
     "traceback": [
      "\u001b[0;31m---------------------------------------------------------------------------\u001b[0m",
      "\u001b[0;31mAttributeError\u001b[0m                            Traceback (most recent call last)",
      "Cell \u001b[0;32mIn[5], line 1\u001b[0m\n\u001b[0;32m----> 1\u001b[0m image \u001b[38;5;241m=\u001b[39m read_imagefile(\u001b[43mpath\u001b[49m\u001b[38;5;241;43m.\u001b[39;49m\u001b[43mread\u001b[49m())\n",
      "\u001b[0;31mAttributeError\u001b[0m: 'str' object has no attribute 'read'"
     ]
    }
   ],
   "source": [
    "image = read_imagefile(path.read())"
   ]
  },
  {
   "cell_type": "code",
   "execution_count": null,
   "id": "54543a0e-13e9-4ab7-8dd2-843c62fa5384",
   "metadata": {},
   "outputs": [],
   "source": []
  }
 ],
 "metadata": {
  "kernelspec": {
   "display_name": "Python 3 (ipykernel)",
   "language": "python",
   "name": "python3"
  },
  "language_info": {
   "codemirror_mode": {
    "name": "ipython",
    "version": 3
   },
   "file_extension": ".py",
   "mimetype": "text/x-python",
   "name": "python",
   "nbconvert_exporter": "python",
   "pygments_lexer": "ipython3",
   "version": "3.10.12"
  }
 },
 "nbformat": 4,
 "nbformat_minor": 5
}
